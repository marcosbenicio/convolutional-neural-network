{
 "cells": [
  {
   "cell_type": "code",
   "execution_count": 1,
   "metadata": {},
   "outputs": [],
   "source": [
    "import tensorflow as tf\n",
    "import pandas as pd\n",
    "import numpy as np\n",
    "import matplotlib.pyplot as plt\n",
    "\n",
    "from keras.models import Model\n",
    "from keras.layers import Input, Dense, Layer, Conv2D, MaxPool2D, Flatten\n",
    "from keras.losses import Loss\n",
    "from keras.optimizers import Optimizer\n",
    "from sklearn.model_selection import KFold\n",
    "from tensorflow.keras.utils import to_categorical, plot_model, load_img, img_to_array\n",
    "\n",
    "from keras.models import load_model"
   ]
  },
  {
   "attachments": {},
   "cell_type": "markdown",
   "metadata": {},
   "source": [
    "# Functions: Import and process data"
   ]
  },
  {
   "attachments": {},
   "cell_type": "markdown",
   "metadata": {},
   "source": [
    "In the following code block we have the functions ``show_img``, ``single_img`` and ``plot_single_img``. They are used to show a single image from the dataset, create a batch of size 1 for the image (i.e. expand one dimension) to pass for the model, and show image passed as input along side of the probability of correctness."
   ]
  },
  {
   "cell_type": "code",
   "execution_count": 2,
   "metadata": {},
   "outputs": [],
   "source": [
    "def show_img(data):\n",
    "    # show figures in the dataset\n",
    "    fig = plt.figure(figsize = (24,3))\n",
    "    plt.imshow(data.reshape(28,28) , cmap = plt.get_cmap('gray'))\n",
    "    plt.show()\n",
    "    \n",
    "def single_img(img_array):\n",
    "    img_batch = np.expand_dims(img_array, axis=0)\n",
    "    return img_batch\n",
    "\n",
    "def plot_single_img(img, prediction):\n",
    "    fig, ax = plt.subplots(1,2, figsize = (20,10))\n",
    "\n",
    "    ax[0].imshow(img.reshape(28,28) , cmap = plt.get_cmap('gray'))\n",
    "    \n",
    "    ax[1].bar(range(10), prediction[0], color = 'black' )\n",
    "    ax[1].set_xlabel('$Numbers$', color = \"gray\", fontsize =20)\n",
    "    ax[1].set_ylabel('$Prob$', color = \"gray\", fontsize =20)\n",
    "    ax[1].set_title('Probability of correct number', color = 'gray',fontsize =20)\n",
    "    ax[1].set_xticks(range(11))\n",
    "    ax[1].set_yticks([])\n",
    "    ax[1].tick_params(axis ='x', colors = 'gray', labelsize = 15)\n",
    "\n",
    "    plt.show()\n",
    "    \n"
   ]
  },
  {
   "attachments": {},
   "cell_type": "markdown",
   "metadata": {},
   "source": [
    "The ``load_data`` function reads two CSV files containing the training and testing data, respectively. The CSV files are assumed to have the following format: the first column contains the label of the image (i.e., the digit it represents), and the remaining 784 columns (28 x 28 pixels) contain the pixel values of the image. The function returns a tuple of tuples, where the first tuple contains the training data (pixel values and labels), and the second tuple contains the testing data (pixel values and one-hot encoded labels)."
   ]
  },
  {
   "cell_type": "code",
   "execution_count": 3,
   "metadata": {},
   "outputs": [],
   "source": [
    "def load_data():\n",
    "    \n",
    "    train = pd.read_csv('data/mnist_train_small.csv')\n",
    "    test = pd.read_csv('data/mnist_test_small.csv')\n",
    "\n",
    "    y_train = train['label'].to_numpy()\n",
    "    x_train = train.drop('label', axis = 1).to_numpy()\n",
    "    y_test = test['label'].to_numpy()\n",
    "    x_test = test.drop('label', axis = 1).to_numpy()\n",
    "    \n",
    "    # reshape dataset to have a single channel\n",
    "    # Reshape (20000,784) ->  (2000,     28,     28,     1)\n",
    "    x_test = x_test.reshape(x_test.shape[0],28,28,1)\n",
    "    x_train = x_train.reshape(x_train.shape[0],28,28,1)\n",
    "    # one hot encode target values\n",
    "    y_test = to_categorical(y_test)\n",
    "    y_train = to_categorical(y_train)\n",
    "\n",
    "    return (x_train, y_train), (x_train, y_test)"
   ]
  },
  {
   "attachments": {},
   "cell_type": "markdown",
   "metadata": {},
   "source": [
    "The ``scale_pixels`` function normalize the dataset. Note that normalizing the dataset does not change the appearance of the images. if you normalize an image by dividing each pixel value by 255, you are scaling the range of values from $[0, 255]$ $\\to$ $[0, 1]$.\n",
    "\n",
    "When we normalize the pixel values of an image, we typically scale them so that they have a mean of 0 and a standard deviation of 1. This can help improve the performance of the CNN model."
   ]
  },
  {
   "cell_type": "code",
   "execution_count": 4,
   "metadata": {},
   "outputs": [],
   "source": [
    "def scale_pixels(train, test):\n",
    "    # normalize the data to a range of [0 1] and convert to float\n",
    "    train_norm = train.astype('float32') / 255.0\n",
    "    test_norm = test.astype('float32') / 255.0\n",
    "\n",
    "    return train_norm, test_norm"
   ]
  },
  {
   "attachments": {},
   "cell_type": "markdown",
   "metadata": {},
   "source": [
    "# Classes: CNN Model\n",
    "\n",
    "One possible approach for this model of classification is to create two classes heiress from the class ``Model``, one for the convolutional and pooling layers, and another for the fully connected neural network layers. This approach allows for modular design and easier customization of the CNN architecture."
   ]
  },
  {
   "attachments": {},
   "cell_type": "markdown",
   "metadata": {},
   "source": [
    "We can intercalate ``Conv2D`` layers with ``MaxPool2D`` layers. This allows the network to learn hierarchical features of increasing complexity and abstraction, while reducing the spatial dimensionality of the feature maps and improving the computational efficiency of the network. \n",
    "\n",
    "Remember, The filter size of a ``Conv2D`` layer is a hyperparameter that determines the spatial size of the filter kernel that slides over the input image. The filter size is usually a small square matrix, typically $3\\times 3$ or $5 \\times 5$. The filter size determines the size of the receptive field of the layer, which is the region of the input that each neuron in the layer is connected to. On the other hand, The pool size of a ``MaxPooling2D`` layer represents the size of the window that is used for pooling. This window slides over the input feature map in two dimensions and outputs the maximum value in each window."
   ]
  },
  {
   "attachments": {},
   "cell_type": "markdown",
   "metadata": {},
   "source": [
    "Note that Choosing different filter sizes and pool sizes allows for greater flexibility in designing a CNN architecture that can effectively learn from the input data. \n",
    "\n",
    "- **Filter sizes:**\n",
    "  \n",
    "    - **Larger filter sizes**:  CNN can detect smaller and more intricate features in the image. This can be useful when working with images that contain fine details, such as edges or small textures. However, smaller filters also lead to more convolutions, which can increase the computational cost of the network.\n",
    "\n",
    "    - **Smaller filter sizes**: CNN can detect larger features in the image. This can be useful when working with images that contain larger features, such as objects or patterns that cover a large area of the image. However, larger filters can also lead to a loss of spatial resolution and details in the image, especially in deeper layers of the network.\n",
    "\n",
    "- **Pool sizes:**\n",
    "\n",
    "  - **Larger pool sizes**: Can lead to a more precise localization of features in the input image, as less information is lost due to downsampling. However, smaller pool sizes can also increase the chance of overfitting, as the model may become too focused on details that are specific to the training set.\n",
    "\n",
    "  - **Smaller pool sizes**: Can lead to a more generalized representation of the input, as more information is lost due to downsampling. This can help prevent overfitting, as the model is forced to learn more abstract representations that are applicable to a wider range of inputs. However, larger pool sizes can also result in a loss of important features in the input, which can lead to decreased performance.\n",
    "\n",
    "\n",
    "Another important factor to consider is the depth and width of the network. Increasing the depth of the network (i.e., the number of layers) can improve the representational capacity of the network, but may also lead to overfitting or computational inefficiencies. Similarly, increasing the width of the network (i.e., the number of filters in each layer) can improve the discriminative power of the network, but may also increase the computational cost and memory requirements."
   ]
  },
  {
   "cell_type": "code",
   "execution_count": 5,
   "metadata": {},
   "outputs": [],
   "source": [
    "class CNN(Model):\n",
    "    \n",
    "    def __init__(self, \n",
    "                 nn_model, \n",
    "                 img_shape: tuple = (28, 28, 1), \n",
    "                 filters: list = [32, 64], \n",
    "                 filter_size: list = [(3, 3), (3, 3)], \n",
    "                 pool_sizes: list = [(2, 2), (2, 2)], \n",
    "                 activation: str = 'relu', \n",
    "                 initializer: str = 'he_uniform') -> None:\n",
    "        \"\"\"\n",
    "        Constructor for the CNN class.\n",
    "\n",
    "        Parameters:\n",
    "        nn_model (Model): The model to be used in the final fully connected layer for classification.\n",
    "        img_shape (tuple): The shape of the input image.\n",
    "        filters (list): A list containing the number of filters to be used in each convolutional layer.\n",
    "        filter_size (list): The size of the filters to be applied in each convolutional layer.\n",
    "        pool_sizes (list): A list containing the size of the maxpooling layer to be applied after each convolutional layer.\n",
    "        activation (str): The activation function to be used in the convolutional layers.\n",
    "        initializer (str): The initializer to be used in the convolutional layers.\n",
    "        \"\"\"\n",
    "        super(CNN, self).__init__()\n",
    "        self.nn_model = nn_model\n",
    "        self.img_shape = img_shape\n",
    "        self.filters = filters\n",
    "        self.filter_size = filter_size\n",
    "        self.pool_sizes = pool_sizes\n",
    "        self.activation = activation\n",
    "        self.initializer = initializer\n",
    "\n",
    "        # create convolutional layers\n",
    "        self.conv2d = []\n",
    "        for i in range(len(filters)):\n",
    "            self.conv2d.append(Conv2D(filters= self.filters[i], kernel_size=self.filter_size[i], kernel_initializer=self.initializer,\n",
    "                                      input_shape=img_shape, activation=self.activation, name='Conv2D_{}'.format(i)))\n",
    "\n",
    "        # create maxpooling layers\n",
    "        self.maxpool = []\n",
    "        for i in range(len(self.pool_sizes)):\n",
    "            self.maxpool.append(MaxPool2D(pool_size=self.pool_sizes[i], name='MaxPool_{}'.format(i)))\n",
    "\n",
    "\n",
    "        # create flatten layer\n",
    "        self.flatten = Flatten(name='Flatten')\n",
    "\n",
    "    def call(self, x):\n",
    "        \"\"\"\n",
    "        Forward pass of the network.\n",
    "\n",
    "        Parameters:\n",
    "        x: Input tensor.\n",
    "\n",
    "        Returns:\n",
    "        x: Output tensor.\n",
    "        \"\"\"\n",
    "        for conv_layer, maxpool_layer in zip(self.conv2d, self.maxpool):\n",
    "            x = conv_layer(x)\n",
    "            x = maxpool_layer(x)\n",
    "        x = self.flatten(x)\n",
    "        x = self.nn_model(x)\n",
    "        return x\n",
    "\n",
    "    def build(self):\n",
    "        \"\"\"\n",
    "        Intermediate step to generate a graph.\n",
    "\n",
    "        Returns:\n",
    "        model: The model generated with the CNN class.\n",
    "        \"\"\"\n",
    "        x = Input(shape=self.img_shape, name=\"Input\")\n",
    "        model = Model(inputs=x, outputs=self.call(x), name=\"CNN\")\n",
    "        return model"
   ]
  },
  {
   "cell_type": "code",
   "execution_count": 6,
   "metadata": {},
   "outputs": [],
   "source": [
    "class NN(Model):\n",
    "    def __init__(\n",
    "        self,\n",
    "        layer_sizes: list = [128],\n",
    "        output_size: int = 10,\n",
    "        output_activation: str = \"softmax\",\n",
    "        activation: str = \"relu\",\n",
    "        initializer: str = \"he_uniform\"\n",
    "    ) -> None:\n",
    "        \"\"\"\n",
    "        Constructor for the NN class.\n",
    "\n",
    "        Parameters:\n",
    "        layer_sizes (list): A list containing the number of units (neurons) to be used in each dense layer.\n",
    "        output_size (int): The number of units (neurons) to be used in the output layer.\n",
    "        output_activation (str): The activation function to be used in the output layer.\n",
    "        activation (str): The activation function to be used in the hidden layers.\n",
    "        initializer (str): The initializer to be used in the hidden layers.\n",
    "        \"\"\"\n",
    "        super(NN, self).__init__()\n",
    "\n",
    "        self.layer_sizes = layer_sizes\n",
    "        self.output_size = output_size\n",
    "        self.activation_func = activation\n",
    "        self.output_activation = output_activation\n",
    "        self.initializer = initializer\n",
    "\n",
    "        # Hidden Layers\n",
    "        self.hidden_layer = []\n",
    "        for i in range(len(layer_sizes)):\n",
    "            self.hidden_layer.append(Dense(units = self.layer_sizes[i], kernel_initializer = self.initializer,\n",
    "                                           activation = activation, name='Dense_{}'.format(i)))\n",
    "\n",
    "        # Output Layer\n",
    "        self.output_layer = Dense(\n",
    "            units= self.output_size,\n",
    "            kernel_initializer = self.initializer,\n",
    "            activation=output_activation,\n",
    "            name=\"Output\"\n",
    "        )\n",
    "\n",
    "    def call(self, x: tf.Tensor) -> tf.Tensor:\n",
    "        \"\"\"\n",
    "        Forward step of the network.\n",
    "\n",
    "        Parameters:\n",
    "        x (tf.Tensor): Input tensor.\n",
    "\n",
    "        Returns:\n",
    "        tf.Tensor: Output tensor.\n",
    "        \"\"\"\n",
    "        for hidden in self.hidden_layer:\n",
    "            x = hidden(x)\n",
    "        x = self.output_layer(x)\n",
    "        return x"
   ]
  },
  {
   "attachments": {},
   "cell_type": "markdown",
   "metadata": {},
   "source": [
    "## Model Summary"
   ]
  },
  {
   "cell_type": "code",
   "execution_count": 7,
   "metadata": {},
   "outputs": [
    {
     "name": "stdout",
     "output_type": "stream",
     "text": [
      "Model: \"CNN\"\n",
      "_________________________________________________________________\n",
      " Layer (type)                Output Shape              Param #   \n",
      "=================================================================\n",
      " Input (InputLayer)          [(None, 28, 28, 1)]       0         \n",
      "                                                                 \n",
      " Conv2D_0 (Conv2D)           (None, 26, 26, 32)        320       \n",
      "                                                                 \n",
      " MaxPool_0 (MaxPooling2D)    (None, 13, 13, 32)        0         \n",
      "                                                                 \n",
      " Conv2D_1 (Conv2D)           (None, 11, 11, 64)        18496     \n",
      "                                                                 \n",
      " MaxPool_1 (MaxPooling2D)    (None, 5, 5, 64)          0         \n",
      "                                                                 \n",
      " Flatten (Flatten)           (None, 1600)              0         \n",
      "                                                                 \n",
      " nn (NN)                     (None, 10)                206218    \n",
      "                                                                 \n",
      "=================================================================\n",
      "Total params: 225,034\n",
      "Trainable params: 225,034\n",
      "Non-trainable params: 0\n",
      "_________________________________________________________________\n"
     ]
    }
   ],
   "source": [
    "nn_model = NN()\n",
    "cnn_model = CNN(nn_model).build()\n",
    "\n",
    "cnn_model.summary()"
   ]
  },
  {
   "cell_type": "code",
   "execution_count": 8,
   "metadata": {},
   "outputs": [
    {
     "data": {
      "image/png": "[encoded data removed]",
      "text/plain": [
       "<IPython.core.display.Image object>"
      ]
     },
     "execution_count": 8,
     "metadata": {},
     "output_type": "execute_result"
    }
   ],
   "source": [
    "plot_model(cnn_model, show_shapes=True, show_layer_names=True)"
   ]
  },
  {
   "attachments": {},
   "cell_type": "markdown",
   "metadata": {},
   "source": [
    "# Main"
   ]
  },
  {
   "cell_type": "code",
   "execution_count": 9,
   "metadata": {},
   "outputs": [
    {
     "name": "stdout",
     "output_type": "stream",
     "text": [
      "Epoch 1/10\n",
      "625/625 [==============================] - 8s 12ms/step - loss: 0.1954 - accuracy: 0.9413\n",
      "Epoch 2/10\n",
      "625/625 [==============================] - 7s 11ms/step - loss: 0.0604 - accuracy: 0.9809\n",
      "Epoch 3/10\n",
      "625/625 [==============================] - 7s 11ms/step - loss: 0.0383 - accuracy: 0.9875\n",
      "Epoch 4/10\n",
      "625/625 [==============================] - 7s 11ms/step - loss: 0.0241 - accuracy: 0.9916\n",
      "Epoch 5/10\n",
      "625/625 [==============================] - 7s 11ms/step - loss: 0.0203 - accuracy: 0.9932\n",
      "Epoch 6/10\n",
      "625/625 [==============================] - 7s 11ms/step - loss: 0.0163 - accuracy: 0.9949\n",
      "Epoch 7/10\n",
      "625/625 [==============================] - 7s 11ms/step - loss: 0.0107 - accuracy: 0.9959\n",
      "Epoch 8/10\n",
      "625/625 [==============================] - 7s 11ms/step - loss: 0.0148 - accuracy: 0.9952\n",
      "Epoch 9/10\n",
      "625/625 [==============================] - 7s 11ms/step - loss: 0.0086 - accuracy: 0.9970\n",
      "Epoch 10/10\n",
      "625/625 [==============================] - 7s 11ms/step - loss: 0.0080 - accuracy: 0.9973\n"
     ]
    },
    {
     "data": {
      "text/plain": [
       "<keras.callbacks.History at 0x1d0f418ddb0>"
      ]
     },
     "execution_count": 9,
     "metadata": {},
     "output_type": "execute_result"
    }
   ],
   "source": [
    "# Data Pre-Processing\n",
    "train, test = load_data()\n",
    "x_train, y_train  = train[0], train[1]\n",
    "x_test, y_test  = test[0], test[1]\n",
    "\n",
    "x_train, x_test = scale_pixels(x_train, x_test)\n",
    "\n",
    "# Show images\n",
    "#print(x_train[1997].shape)\n",
    "#plot_img(x_test[10])\n",
    "\n",
    "# Model\n",
    "nn_model = NN()\n",
    "cnn_model = CNN(nn_model).build()\n",
    "\n",
    "# Compile and fit\n",
    "cnn_model.compile(loss = 'categorical_crossentropy', optimizer = tf.optimizers.Adam(learning_rate=0.001),metrics=['accuracy'])\n",
    "cnn_model.fit(x = x_train, y = y_train, epochs=10, batch_size=32)\n"
   ]
  },
  {
   "attachments": {},
   "cell_type": "markdown",
   "metadata": {},
   "source": [
    "# Predict single image and plot"
   ]
  },
  {
   "cell_type": "code",
   "execution_count": 11,
   "metadata": {},
   "outputs": [
    {
     "name": "stdout",
     "output_type": "stream",
     "text": [
      "1/1 [==============================] - 0s 15ms/step\n",
      "[[1.5571955e-11 3.5068636e-16 1.0000000e+00 2.4871915e-18 2.9004134e-12\n",
      "  2.1852026e-21 3.0089623e-18 4.4784571e-12 5.1527435e-13 7.7322288e-18]]\n"
     ]
    },
    {
     "data": {
      "image/png": "[encoded data removed]",
      "text/plain": [
       "<Figure size 1440x720 with 2 Axes>"
      ]
     },
     "metadata": {},
     "output_type": "display_data"
    }
   ],
   "source": [
    "img_batch = single_img(x_test[5])\n",
    "prediction = cnn_model.predict(img_batch)\n",
    "print(prediction)\n",
    "\n",
    "plot_single_img(img_batch, prediction)"
   ]
  }
 ],
 "metadata": {
  "kernelspec": {
   "display_name": "Python 3",
   "language": "python",
   "name": "python3"
  },
  "language_info": {
   "codemirror_mode": {
    "name": "ipython",
    "version": 3
   },
   "file_extension": ".py",
   "mimetype": "text/x-python",
   "name": "python",
   "nbconvert_exporter": "python",
   "pygments_lexer": "ipython3",
   "version": "3.10.2 (tags/v3.10.2:a58ebcc, Jan 17 2022, 14:12:15) [MSC v.1929 64 bit (AMD64)]"
  },
  "orig_nbformat": 4,
  "vscode": {
   "interpreter": {
    "hash": "0743c798041383927c03f3bae5eca888e94e4777f716cdd511cdff96fbdedc02"
   }
  }
 },
 "nbformat": 4,
 "nbformat_minor": 2
}
